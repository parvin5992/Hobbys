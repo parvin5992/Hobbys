{
 "cells": [
  {
   "cell_type": "code",
   "execution_count": 24,
   "id": "a520dc8a-856e-4c53-96bf-e3cb38e755fe",
   "metadata": {},
   "outputs": [
    {
     "name": "stdin",
     "output_type": "stream",
     "text": [
      "Enter First Number :   2\n",
      "Enter second Number :   5\n"
     ]
    },
    {
     "name": "stdout",
     "output_type": "stream",
     "text": [
      " the primes number between  2 , 5 is :<function primes_between at 0x0000026A7975A0C0>\n"
     ]
    }
   ],
   "source": [
    "# from turtle import *\n",
    "# import colorsys\n",
    "# tracer(2)\n",
    "# pensize(2)\n",
    "# h = 0.2\n",
    "# bgcolor(\"black\")\n",
    "# lt(80)\n",
    "# fd(180)\n",
    "# lt(180)\n",
    "# lt(80)\n",
    "\n",
    "# for i in range (330):\n",
    "#     c=colorsys.hsv_to_rgb(h,1,1)\n",
    "#     color(c)\n",
    "#     h+=0.004\n",
    "#     fd(i)\n",
    "#     rt(50)\n",
    "#     rt(40)\n",
    "#     fd(500)\n",
    "#     rt(120)\n",
    "# done()\n",
    "\n"
   ]
  },
  {
   "cell_type": "code",
   "execution_count": null,
   "id": "dce04194-6a01-4ddc-a18a-c60855b77739",
   "metadata": {},
   "outputs": [],
   "source": []
  }
 ],
 "metadata": {
  "kernelspec": {
   "display_name": "Python 3 (ipykernel)",
   "language": "python",
   "name": "python3"
  },
  "language_info": {
   "codemirror_mode": {
    "name": "ipython",
    "version": 3
   },
   "file_extension": ".py",
   "mimetype": "text/x-python",
   "name": "python",
   "nbconvert_exporter": "python",
   "pygments_lexer": "ipython3",
   "version": "3.11.2"
  }
 },
 "nbformat": 4,
 "nbformat_minor": 5
}
